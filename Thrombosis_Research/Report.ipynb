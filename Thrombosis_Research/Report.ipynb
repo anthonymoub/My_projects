{
 "cells": [
  {
   "cell_type": "raw",
   "metadata": {},
   "source": [
    "---\n",
    "title: \"HW2-Anthony Moubarak-EDA\"\n",
    "author:\n",
    "  - name: Anthony Moubarak\n",
    "    affiliations:\n",
    "      - name: Georgetown University        \n",
    "date: \"`r Sys.Date()`\"\n",
    "format:\n",
    "    html:\n",
    "        toc: true\n",
    "        embed-resources: true\n",
    "        theme: default\n",
    "        code-copy: true\n",
    "        code-fold: true\n",
    "        code-line-numbers: true\n",
    "        number-sections: true\n",
    "        highlight-style: github\n",
    "        page-layout: full\n",
    "      \n",
    "---"
   ]
  },
  {
   "cell_type": "markdown",
   "metadata": {},
   "source": [
    "# Introduction\n",
    "\n",
    "Collagen diseases are a group of conditions that affect the connective tissues in the body, which provide structure and support to organs and tissues. These diseases can range from mild to severe and include conditions like lupus, rheumatoid arthritis, and scleroderma. In these diseases, thrombosis is one of the most important and severe complications, one of the major cause of death in collagen diseases. Recently, this complication is closely related with anti-cardiolipin antibodies, which was discovered by the medical physicians, one of whom donated the datasets for discovery challenge.\n",
    "\n",
    "The seriousness of Thrombosis has made it one of the most important diseases being explored in the medical industry, for properly understanding it and potentially identifying its predictors would provide a breakthrough that made save thousands of lives. \n",
    "\n",
    "That being said, Georgetown University has provided me with data from their university hospital to conduct an analysis on thrombosis and its possible contributors. This data includes information on patient demographics, medical history, and laboratory results, which will be used to identify potential risk factors and underlying causes of thrombosis. \n",
    "\n",
    "The main objectives of this project are: <br><br>\n",
    "\n",
    "* Identify potential predictors of Thrombosis.\n",
    "* Analyze any potential temporal patterns associated with Thrombosis.\n",
    "* Understand the characteristics of a patient with Thrombosis.\n",
    "\n",
    "<br><br>\n",
    "To achieve these objectives, the data will be carefully analyzed to identify any significant patterns and relationships that can provide insights into the causes and characteristics of Thrombosis. By doing so, this project aims to contribute to a better understanding of Collagen diseases, particularly Thrombosis, and ultimately improve the diagnosis and treatment of these life-threatening conditions.\n",
    "\n",
    "\n",
    "# Data Summary\n",
    "\n",
    "\n",
    "The Hospital has provided with 3 main datasets, brief descriptions of each can be found below: <br><br>\n",
    "\n",
    "* tsumoto_a.csv: Basic Information about Patients<br>\n",
    "* tsumoto_b.csv: Special Laboratory Examinations <br>\n",
    "* tsumoto_c.csv: Laboratory Examinations stored in Hospital Information Systems<br> <br>\n",
    "\n",
    "Before doing any kind of analysis, it is important to properly understand the datasets in terms of shape, strengths, weaknesses, etc. <br><br>\n",
    "\n",
    "Importing all necessary libraries."
   ]
  },
  {
   "cell_type": "code",
   "execution_count": null,
   "metadata": {},
   "outputs": [],
   "source": [
    "# Importing all necessary packages\n",
    "import statsmodels.api as sm\n",
    "import numpy as np\n",
    "import pandas as pd\n",
    "import matplotlib.pyplot as plt\n",
    "import seaborn as sns\n",
    "import klib\n",
    "import missingno as msno\n",
    "from sklearn.preprocessing import StandardScaler\n",
    "from math import pi\n",
    "from wordcloud import WordCloud, STOPWORDS\n",
    "import sys"
   ]
  },
  {
   "cell_type": "markdown",
   "metadata": {},
   "source": [
    "Importing the 3 datasets. As a quick note, a couple of lines in tsumoto_C were causing issues when reading the dataset, so a \"error_bad_lines=False\" argument was introduced to bypass these issues. A total of 30 lines (out pf 50k + where dropped), so any impacts of this drop would be very minimal."
   ]
  },
  {
   "cell_type": "code",
   "execution_count": null,
   "metadata": {},
   "outputs": [],
   "source": [
    "# Redirect stdout and stderr to null device\n",
    "sys.stdout = open('/dev/null', 'w')\n",
    "sys.stderr = open('/dev/null', 'w')\n",
    "\n",
    "# Importing datasets\n",
    "df_A = pd.read_csv(\"data/TSUMOTO_A.csv\" , encoding='ISO-8859-1')\n",
    "df_B = pd.read_csv(\"data/TSUMOTO_B.csv\" ,  encoding='ISO-8859-1')\n",
    "df_C = pd.read_csv(\"data/TSUMOTO_C.csv\" , encoding='ISO-8859-1' , error_bad_lines=False) \n",
    "# A couple of bad (unreadable) lines in tsumoto_c where dropped. The dropped lines account for 30 (out of 50k+),\n",
    "# which makes this drop insignificant"
   ]
  },
  {
   "cell_type": "markdown",
   "metadata": {},
   "source": [
    "Quick look at each data set:"
   ]
  },
  {
   "cell_type": "code",
   "execution_count": null,
   "metadata": {},
   "outputs": [],
   "source": [
    "df_A.head(5)"
   ]
  },
  {
   "cell_type": "code",
   "execution_count": null,
   "metadata": {},
   "outputs": [],
   "source": [
    "df_B.head(5)"
   ]
  },
  {
   "cell_type": "code",
   "execution_count": null,
   "metadata": {},
   "outputs": [],
   "source": [
    "df_C.head(5)"
   ]
  },
  {
   "cell_type": "markdown",
   "metadata": {},
   "source": [
    "At first glance, the datasets seem to have a couple of missing values, something which will be dealt with later on."
   ]
  },
  {
   "cell_type": "code",
   "execution_count": null,
   "metadata": {},
   "outputs": [],
   "source": [
    "\"Lenght of df_A: \" + str(df_A.shape)"
   ]
  },
  {
   "cell_type": "code",
   "execution_count": null,
   "metadata": {},
   "outputs": [],
   "source": [
    "\"Lenght of df_B: \" + str(df_B.shape)"
   ]
  },
  {
   "cell_type": "code",
   "execution_count": null,
   "metadata": {},
   "outputs": [],
   "source": [
    "\"Lenght of df_C: \" + str(df_C.shape)"
   ]
  },
  {
   "cell_type": "markdown",
   "metadata": {},
   "source": [
    "The lengths of the data sets makes sense considering their nature, where tsumoto_C is by far the largest one considering it is for general laboratory examinations, where each user has more than one entry (multiple examinations per user).\n",
    "\n",
    "Before moving on with any analysis, renaming the columns to make the dataset tidier is a good idea. The idea is to have all columns in lower case and with \"_\" (underscore) instead of spaces."
   ]
  },
  {
   "cell_type": "code",
   "execution_count": null,
   "metadata": {},
   "outputs": [],
   "source": [
    "def rename_columns(df):\n",
    "    for i in range(len(df.columns)):\n",
    "        if len(df.columns[i].split()) != 1:\n",
    "            df.rename(columns={str(df.columns[i]): (str(df.columns[i]).lower().split()[0]) + '_' + (str(df.columns[i]).lower().split()[1])}, inplace=True)\n",
    "        else:\n",
    "            df.rename(columns={str(df.columns[i]):str(df.columns[i]).lower()}, inplace=True)\n",
    "\n",
    "    \n",
    "\n",
    "rename_columns(df_A)\n",
    "rename_columns(df_B)\n",
    "rename_columns(df_C)"
   ]
  },
  {
   "cell_type": "markdown",
   "metadata": {},
   "source": [
    "Fix a couple of columns in the dataframe."
   ]
  },
  {
   "cell_type": "code",
   "execution_count": null,
   "metadata": {},
   "outputs": [],
   "source": [
    "def format_date_column(df, col_name):\n",
    "    formatted_dates = []\n",
    "    for date in df[col_name]:\n",
    "        y = str(date)[0:2]\n",
    "        m = str(date)[2:4]\n",
    "        d = str(date)[4:6]\n",
    "        formatted_dates.append('19' + y + '/' + m + '/' + d)\n",
    "    df[col_name] = formatted_dates\n",
    "    return df\n",
    "\n",
    "df_C = format_date_column(df_C, 'date')"
   ]
  },
  {
   "cell_type": "markdown",
   "metadata": {},
   "source": [
    "A huge part of this project focuses on joining these data sets and subsets of these datasets, so checking for the missing values per column (per data set) would give a good sense of what columns are useless and should be possibly dropped."
   ]
  },
  {
   "cell_type": "code",
   "execution_count": null,
   "metadata": {},
   "outputs": [],
   "source": [
    "# Missing values plot df_A\n",
    "\n",
    "# Redirect stdout and stderr to null device\n",
    "sys.stdout = open('/dev/null', 'w')\n",
    "sys.stderr = open('/dev/null', 'w')\n",
    "\n",
    "klib.missingval_plot(df_A , cmap='Reds')\n",
    "plt.figure(figsize=(8, 6))\n",
    "plt.show()"
   ]
  },
  {
   "cell_type": "markdown",
   "metadata": {},
   "source": [
    "All columns in df_A seem fine, description and first date (date of admission) are the columns with the highest rate of missing values (15% and 20%), but that shouldnt cause any troubles. Dealing with missing values in these columns could be dealt with at later stages, when/if they are used.\n"
   ]
  },
  {
   "cell_type": "code",
   "execution_count": null,
   "metadata": {},
   "outputs": [],
   "source": [
    "# Missing values plot df_A\n",
    "\n",
    "# Redirect stdout and stderr to null device\n",
    "sys.stdout = open('/dev/null', 'w')\n",
    "sys.stderr = open('/dev/null', 'w')\n",
    "\n",
    "klib.missingval_plot(df_B, cmap='Reds')\n",
    "plt.figure(figsize=(8, 6))\n",
    "plt.show()"
   ]
  },
  {
   "cell_type": "markdown",
   "metadata": {},
   "source": [
    "It appears that df_B is more concerning than df_A as it contains 4 columns with more than 70% (some even 80%) of the values missing. These columns, namely kct, rvvt, lac, and symptoms, pose a significant challenge in terms of replacing missing values due to various reasons. Since only around 20% of the columns have values, it's difficult to determine how the missing values are distributed and how they might impact the data. Attempting to replace these missing values would introduce bias and skewness in the data, leading to results that may not accurately represent reality. Therefore, the best course of action would be to drop these columns and exclude them from further analysis.\n"
   ]
  },
  {
   "cell_type": "code",
   "execution_count": null,
   "metadata": {},
   "outputs": [],
   "source": [
    "# Missing values plot df_A\n",
    "\n",
    "\n",
    "# Redirect stdout and stderr to null device\n",
    "sys.stdout = open('/dev/null', 'w')\n",
    "sys.stderr = open('/dev/null', 'w')\n",
    "\n",
    "klib.missingval_plot(df_C, cmap='Reds')\n",
    "plt.figure(figsize=(8, 6))\n",
    "plt.show()"
   ]
  },
  {
   "cell_type": "markdown",
   "metadata": {},
   "source": [
    "As for df_C, which turns out to be the most torubling dataset, with almost haf (19 out of 44) of the columns have more than 60% as missing values, of which 15 columns have more than 80% missing values. The main issue is that the majority of these columns are numeric and could have added context to any possible analysis, but the current state of the columns make them useless and very troublesome.\n",
    "\n",
    "To further understand the reaso behind that much missing data, i will plot missing values correlation heatmaps, which show which variables usually are missing together and the possible implications. \n"
   ]
  },
  {
   "cell_type": "code",
   "execution_count": null,
   "metadata": {},
   "outputs": [],
   "source": [
    "# Missing value correlations df_A\n",
    "\n",
    "# Redirect stdout and stderr to null device\n",
    "sys.stdout = open('/dev/null', 'w')\n",
    "sys.stderr = open('/dev/null', 'w')\n",
    "\n",
    "mva = msno.heatmap(df_A, cmap='Reds', figsize=(8, 6) , fontsize = 10)"
   ]
  },
  {
   "cell_type": "markdown",
   "metadata": {},
   "source": [
    "Nothing too significant for df_A."
   ]
  },
  {
   "cell_type": "code",
   "execution_count": null,
   "metadata": {},
   "outputs": [],
   "source": [
    "# Missing value correlations df_B\n",
    "\n",
    "# Redirect stdout and stderr to null device\n",
    "sys.stdout = open('/dev/null', 'w')\n",
    "sys.stderr = open('/dev/null', 'w')\n",
    "\n",
    "mva = msno.heatmap(df_B, cmap='Reds', figsize=(7, 5) , fontsize = 10)"
   ]
  },
  {
   "cell_type": "markdown",
   "metadata": {},
   "source": [
    "The only significant missing values relationship/correlation are between kct and lac as well as rvvt and lac, which makes sense considering they are the same thing (measure of degree of coagulation). Two of these three columns should be dropped considerig they represent the same thing.\n"
   ]
  },
  {
   "cell_type": "code",
   "execution_count": null,
   "metadata": {},
   "outputs": [],
   "source": [
    "# Missing value correlations df_C\n",
    "\n",
    "# Redirect stdout and stderr to null device\n",
    "sys.stdout = open('/dev/null', 'w')\n",
    "sys.stderr = open('/dev/null', 'w')\n",
    "\n",
    "mva = msno.heatmap(df_C, cmap='Reds', figsize=(7.4, 5.4) , fontsize = 10)"
   ]
  },
  {
   "cell_type": "markdown",
   "metadata": {},
   "source": [
    "The upper half of the above missing values correlation plot is full of correlations in the 0.7-1 range, which could be explained in 2 ways:  \n",
    "\n",
    "* There is a lot of missing values in many columns, leading to a high missing values correlation. \n",
    "* Most of these lab test results are done together (same test) and hence skipping one test would impact many results. For example, tp and got (correlation 0.9) could be resulting from the same test.\n",
    "\n",
    "The above hypotheses would be further understood once missing values are dropped and new heatmaps are plotted, which is part of the next steps. \n",
    "\n",
    "\n",
    "Finally, since one of the main goals of the research project was understand Thrombosis at a deeper level, it is important to see how many cases are present in the dataset and how they evolved over time."
   ]
  },
  {
   "cell_type": "code",
   "execution_count": null,
   "metadata": {},
   "outputs": [],
   "source": [
    "# Temporal Analysis (How has thrombosis evolved over time)\n",
    "\n",
    "\n",
    "temporal_B = df_B.dropna(subset=['examination_date' , 'thrombosis'])\n",
    "temporal_B = temporal_B.sort_values(by=['examination_date'])\n",
    "temporal_B['examination_date'] = pd.to_datetime(temporal_B['examination_date'])\n",
    "\n",
    "\n",
    "# Replace thrombosis 2 and 3 with 1, since we want to analyze thrombosis in general \n",
    "temporal_B['thrombosis'] = temporal_B['thrombosis'].replace({2: 1, 3: 1})\n",
    "\n",
    "\n",
    "\n",
    "# Extract the year from the datetime and create a new column\n",
    "temporal_B['year'] = temporal_B['examination_date'].dt.year\n",
    "\n",
    "thrombosis_counts = temporal_B.groupby('year')['thrombosis'].value_counts()\n",
    " \n",
    "thrombosis_counts = temporal_B.groupby('year')['thrombosis'].value_counts().unstack()\n",
    "\n",
    "\n",
    "ax = thrombosis_counts.plot(kind='bar', stacked=True, figsize=(8, 5), color=\n",
    "['#979797', '#f44336'])\n",
    "ax.set_title(\"Thrombosis case growth over the years\")\n",
    "ax.set_xlabel('Year')\n",
    "ax.set_ylabel('Count')"
   ]
  },
  {
   "cell_type": "markdown",
   "metadata": {},
   "source": [
    "The bar chart above showcases a big issue with the data, there are very few Thrombosis patients (and even less level 2 and level 3 patients) which could lead to inaccurate conclisons about the disease. For example, if i were to analyze the average IGA of Thrombosis level 3 patients but there are only 6 patients in that category, the results might be very far from the population (All thrombosis level 3) average. This is just a quick example of how this could cause issues, so it is important to highlight this limitation before moving forward with any analysis.\n",
    "\n",
    "\n",
    "# Initial Questions\n",
    "\n",
    "* Does Age have any impact on Thrombosis ?\n",
    "* Is Thrombosis more prevalent in Males compared to Females (or vice versa) ?\n",
    "* What are the possible Laboratory tests that could help in predict Thrombosis ?\n",
    "* Are there any prevalent symptoms a person experiences when they have Thrombosis ?\n",
    "\n",
    "\n",
    "# Data Munging\n",
    "\n",
    "As previously discussed, missing values are a big obstacle to the data sets, so dealing with them is a priority before carrying on any analysis. The first rule/assumption i decided on is drop any columns with more than 70% missing values, as the potential bias and skeweness introduced by data imputation is not worth it. Columns closes to the 50-60% missing values will be kept and evaluated on a case by case basis."
   ]
  },
  {
   "cell_type": "code",
   "execution_count": null,
   "metadata": {},
   "outputs": [],
   "source": [
    " df_A = df_A.loc[:, df_A.isna().mean() < 0.7]\n",
    " df_B = df_B.loc[:, df_B.isna().mean() < 0.7]\n",
    " df_C = df_C.loc[:, df_C.isna().mean() < 0.7]\n"
   ]
  },
  {
   "cell_type": "markdown",
   "metadata": {},
   "source": [
    "Check new column dimensions (after dropping columns)"
   ]
  },
  {
   "cell_type": "code",
   "execution_count": null,
   "metadata": {},
   "outputs": [],
   "source": [
    "\"Lenght of modified df_A: \" + str(df_A.shape)"
   ]
  },
  {
   "cell_type": "code",
   "execution_count": null,
   "metadata": {},
   "outputs": [],
   "source": [
    "\"Lenght of modified df_B: \" + str(df_B.shape)"
   ]
  },
  {
   "cell_type": "code",
   "execution_count": null,
   "metadata": {},
   "outputs": [],
   "source": [
    "\"Lenght of modified df_C: \" + str(df_C.shape)"
   ]
  },
  {
   "cell_type": "markdown",
   "metadata": {},
   "source": [
    "In terms of joining data sets, there are multiple ways of doing so. depending on the question being answered. The first set of questions and analysis i want to do is on Thrombosis itself, understanding how prevalent it is, what are its main symptoms, what might be some predictors, etc.\n",
    "\n",
    "For that reason, the primary unit of observation will be the patient id and whether they have or do not have Thrombosis. In other words, rows in df_B (based on id) are the unit of observation and they will be joined with the corresponding dataframes.\n",
    "\n",
    "analytic_1 is the first data set i will use to do a patient based analysis on Thrombosis, so an inner join will be used between df_B and df_A, then the same will be done with df_C. The join will be done on the \"id\" column between A and B.\n"
   ]
  },
  {
   "cell_type": "code",
   "execution_count": null,
   "metadata": {},
   "outputs": [],
   "source": [
    "# Drop NAs in the ID column of df_B since they are the main unit of analysis (total of 30 rows dropped, not that bad)\n",
    "\n",
    "patients = df_B.dropna(subset=['id'])\n",
    "patients['id'] = patients['id'].astype('int') \n",
    "\n",
    "analytic_1 = pd.merge(df_A, patients, on=\"id\")\n",
    "\n",
    "analytic_1.head(5)"
   ]
  },
  {
   "cell_type": "markdown",
   "metadata": {},
   "source": [
    "Columns decription seems to have a weird format and first_date has a missing values issue, but both could be dealth with later on if they were to be used in any analysis.\n",
    "\n",
    "As for df_C (laboratory examinations), they will be joined with analytic_1 in a different dataset, since there are a lot of columns in the 3 datasets, joining them all into one would be troublesome and would overcomplicate things."
   ]
  },
  {
   "cell_type": "code",
   "execution_count": null,
   "metadata": {},
   "outputs": [],
   "source": [
    "# Join analytic1 wuith df_C in a new dataframe called analytic_2\n",
    "\n",
    "analytic_2 = pd.merge(df_C , analytic_1, on=\"id\" , how=\"right\")\n",
    "\n",
    "analytic_2.head()"
   ]
  },
  {
   "cell_type": "markdown",
   "metadata": {},
   "source": [
    "The main reason a right join was done is to show all the lab results of patients who have been tested for Thrombosis and have a result (0,1,2, or 3). Analyzing lab results of patients that do not have any logged information in analytic_1 is useless and would not further our understanding of thrombosis.\n",
    "\n",
    "analytic_2 showcases another major issue with the data provided, there is a very big time jump between the last lab test and the examination date for thrombosis, making it very tricky to associate any lab result with whether or not a person would get thrombosis. That being said, **assuming** that this difference doesnt matter would simplify things for the time being.\n",
    "\n",
    "\n",
    "# Exploratory Analysis\n",
    "\n",
    "The firts step in conducting a comprehensive analysis of thrombosis, it is important to gain a deeper understanding of its associated side effects and prevalence among different age groups and genders within the population.\n",
    "\n",
    "Below is a density plot that shows the age distribution of people that have thrombosis vs people who do not.\n",
    "\n",
    "**Note**: Thrombosis level 1,2, and 3 are all combined in the below plot into one group."
   ]
  },
  {
   "cell_type": "code",
   "execution_count": null,
   "metadata": {},
   "outputs": [],
   "source": [
    "# Create an age_at_examination column \n",
    "# Fill NA values with 0 that will be dropped later on\n",
    "analytic_1['age_at_examination'] = (np.round(((pd.to_datetime(analytic_1['examination_date']) - pd.to_datetime(analytic_1['birthday'])).dt.days / 365), 0)).fillna(0).astype(int)\n",
    "\n",
    "\n",
    "thrombosis_patients = analytic_1[analytic_1['thrombosis'] != 0]\n",
    "no_thrombosis_patients = analytic_1[analytic_1['thrombosis'] == 0]\n",
    "\n",
    "age_t = thrombosis_patients['age_at_examination']\n",
    "age_nt = no_thrombosis_patients['age_at_examination']\n",
    "\n",
    "# Filter outliers\n",
    "age_t = age_t[age_t >2]\n",
    "age_nt = age_nt[age_nt >2]\n",
    "\n",
    "# Age distribution plot\n",
    "sns.kdeplot(age_t, color=\"#f44336\",fill=True, label=\"Thrombosis + patients\")\n",
    "sns.kdeplot(age_nt, color=\"#979797\",fill=True, label=\"Thrombosis - patients\")\n",
    "\n",
    "# Add legend\n",
    "plt.legend()\n",
    "plt.title(\"Age Distribution of Thrombosis + vs Thrombosis - patients\")\n",
    "plt.xlabel(\"Age\")\n",
    "\n",
    "# Display plot\n",
    "plt.show()\n"
   ]
  },
  {
   "cell_type": "markdown",
   "metadata": {},
   "source": [
    "The density plot above shows that Thrombosis does not seem to occur with older/younger people. In fact, most of Thrombosis patients' age are in the range 20-60, which is pretty much the same as that of petients that did not have Thrombosis. The only slight difference is that patients with no thromboses are slightly skewed to the younger side of that range, but ultimately i dont think this holds any relvance.\n",
    "\n",
    "Next step is to see if there are any differences within the Thrombosis group, meaning between the different levels of the disease's severity."
   ]
  },
  {
   "cell_type": "code",
   "execution_count": null,
   "metadata": {},
   "outputs": [],
   "source": [
    "t1 = analytic_1[analytic_1['thrombosis'] == 1]\n",
    "t1 = analytic_1[analytic_1['thrombosis'] == 1]\n",
    "t2 = analytic_1[analytic_1['thrombosis'] == 2]\n",
    "t3 = analytic_1[analytic_1['thrombosis'] == 3]\n",
    "\n",
    "age_t1 = t1['age_at_examination']\n",
    "age_t2 = t2['age_at_examination']\n",
    "age_t3 = t3['age_at_examination']\n",
    "\n",
    "age_t1 = age_t1[age_t1 > 2]\n",
    "age_t2 = age_t2[age_t2 > 2]\n",
    "age_t3 = age_t3[age_t3 > 2]\n",
    "\n",
    "\n",
    "sns.kdeplot(age_t1, color=\"#979797\",fill=True, label=\"Level 1\")\n",
    "sns.kdeplot(age_t2, color=\"black\",fill=True, label=\"Level 2\")\n",
    "sns.kdeplot(age_t3, color=\"#f44336\",fill=True, label=\"Level 3\")\n",
    "\n",
    "# Add legend\n",
    "plt.legend()\n",
    "plt.title(\"Age Distribution of differnet levels of Thrombosis\")\n",
    "plt.xlabel(\"Age\")\n",
    "\n",
    "# Display plot\n",
    "plt.show()"
   ]
  },
  {
   "cell_type": "markdown",
   "metadata": {},
   "source": [
    "Different levels of Thrombosis turn out to have different age distributions, with the age density plot of level 3 patients being the most condensed in the 35-60 age range, while that of level 1 and level 2 patients being less. \n",
    "\n",
    "\n",
    "Next is an analysis on gender"
   ]
  },
  {
   "cell_type": "code",
   "execution_count": null,
   "metadata": {},
   "outputs": [],
   "source": [
    "# calculate male and female counts for each dataset\n",
    "thrombosis_counts = thrombosis_patients['sex'].value_counts()\n",
    "analytic_counts = analytic_1['sex'].value_counts()\n",
    "\n",
    "# calculate male and female proportions for each dataset\n",
    "thrombosis_proportions = thrombosis_counts / thrombosis_counts.sum()\n",
    "analytic_proportions = analytic_counts / analytic_counts.sum()\n",
    "\n",
    "\n",
    "# Define the data\n",
    "gender_data = {'Female': thrombosis_proportions.values[0], \n",
    "'Male': thrombosis_proportions.values[1]}\n",
    "\n",
    "# Convert data to a pandas dataframe\n",
    "gender_df = pd.DataFrame(gender_data, index=[0])\n",
    "\n",
    "# Create a stacked bar chart\n",
    "gender_df.plot(kind='bar', stacked=True, figsize=(8,6), color=['#f44336', '#979797'])\n",
    "\n",
    "# Add labels and title to the chart\n",
    "\n",
    "plt.xticks(gender_df.index, ['Gender'])\n",
    "plt.ylabel('Percentage of Cases')\n",
    "plt.title('Thrombosis Cases by Gender')\n",
    "\n",
    "# Show the chart\n",
    "plt.show()"
   ]
  },
  {
   "cell_type": "markdown",
   "metadata": {},
   "source": [
    "At first glance, it appears that Thrombosis is dominantly a Female based disease, where the bar chart shows that around 90% of patients in the database that had Thrombosis where females. **However**, this information is extremely misleading without looking at the Gender distribution in the data as a whole (not only Thrombosis + patients)."
   ]
  },
  {
   "cell_type": "code",
   "execution_count": null,
   "metadata": {},
   "outputs": [],
   "source": [
    "import pandas as pd\n",
    "import matplotlib.pyplot as plt\n",
    "\n",
    "# calculate male and female counts for each dataset\n",
    "thrombosis_counts = thrombosis_patients['sex'].value_counts()\n",
    "analytic_counts = analytic_1['sex'].value_counts()\n",
    "\n",
    "# calculate male and female proportions for each dataset\n",
    "thrombosis_proportions = thrombosis_counts / thrombosis_counts.sum()\n",
    "analytic_proportions = analytic_counts / analytic_counts.sum()\n",
    "\n",
    "# create a stacked bar chart\n",
    "fig, ax = plt.subplots(figsize = (8,8))\n",
    "ax.bar(['Thrombosis', 'Dataset'], [thrombosis_proportions['M'], analytic_proportions['M']],\n",
    "       label='Male', color='#979797')\n",
    "ax.bar(['Thrombosis', 'Dataset'], [thrombosis_proportions['F'], analytic_proportions['F']],\n",
    "       bottom=[thrombosis_proportions['M'], analytic_proportions['M']],\n",
    "       label='Female', color='#f44336')\n",
    "max_val = max([thrombosis_proportions.sum(), analytic_proportions.sum()])\n",
    "ax.set_ylim([0, max_val])\n",
    "ax.set_ylabel('Proportion')\n",
    "ax.legend()\n",
    "plt.show()\n"
   ]
  },
  {
   "cell_type": "markdown",
   "metadata": {},
   "source": [
    "As it turns out, the dataset itself is made up of almost all exclusive female patients, which is why Thrombosis appears to be a female dominant disease. This highlights a huge flaw and imbalance in the data, as there is no objective way to analyze whether gender is significant in the Thrombosis conversation.\n",
    "\n",
    "Next, understanding the characteristics/side effects of Thrombosis is a stepping stone towards finding potential predictors of Thrombosis. I will start with analyzing the lab test results (those of df_B).\n",
    "\n",
    "Look at box plots to check for outliers."
   ]
  },
  {
   "cell_type": "code",
   "execution_count": null,
   "metadata": {},
   "outputs": [],
   "source": [
    "# Subset to columns of interest\n",
    "\n",
    "lab_results = analytic_1[['acl_iga' , 'acl_igg', 'acl_igm', 'ana', 'thrombosis']]\n",
    "\n",
    "lab_results = lab_results.dropna(subset=['ana']) # Only 4 missing values \n",
    "lab_results['ana'] = lab_results['ana'].astype('int')\n",
    "\n",
    "# create subplots\n",
    "fig, axs = plt.subplots(2, 2, figsize=(8, 8))\n",
    "\n",
    "# create box plots\n",
    "# Find the rows containing '>4096'\n",
    "cols_to_normalize = ['acl_iga' , 'acl_igg', 'acl_igm', 'ana']\n",
    "mask = (lab_results[cols_to_normalize] == '>4096').any(axis=1)\n",
    "# Drop the rows containing '>4096'\n",
    "lab_results = lab_results.drop(index=lab_results[mask].index)\n",
    "boxp = lab_results[['acl_iga' , 'acl_igg', 'acl_igm', 'ana']].astype(float)\n",
    "axs[0, 0].boxplot(boxp['acl_iga'])\n",
    "axs[0, 0].set_title('acl_iga')\n",
    "axs[0, 1].boxplot(boxp['acl_igg'])\n",
    "axs[0, 1].set_title('acl_igg')\n",
    "axs[1, 0].boxplot(boxp['acl_igm'])\n",
    "axs[1, 0].set_title('acl_igm')\n",
    "axs[1, 1].boxplot(boxp['ana'])\n",
    "axs[1, 1].set_title('ana')\n",
    "\n",
    "# add x-axis label\n",
    "for ax in axs.flat:\n",
    "    ax.set_xlabel('Feature')\n",
    "\n",
    "# add y-axis label\n",
    "for ax in axs.flat:\n",
    "    ax.set_ylabel('Value')\n",
    "\n",
    "# add overall title\n",
    "plt.suptitle('Box plots of features', fontsize=16)\n",
    "\n",
    "# adjust layout\n",
    "plt.tight_layout()\n",
    "\n",
    "# show plot\n",
    "plt.show()"
   ]
  },
  {
   "cell_type": "markdown",
   "metadata": {},
   "source": [
    "The data has a couple of outlier issues.Setting the threshold at 100 for IgA, IgG, and IgM makes sense, while putting it at 200 for ANA also makes sense."
   ]
  },
  {
   "cell_type": "code",
   "execution_count": null,
   "metadata": {},
   "outputs": [],
   "source": [
    "lab_results['ana'] = lab_results['ana'].astype('int')\n",
    "lab_results = lab_results[(lab_results['acl_iga'] < 100) &  (lab_results['acl_igg'] < 100) &  \n",
    "(lab_results['acl_igm'] < 100) & (lab_results['ana'] < 50)]\n",
    "\n",
    "\n",
    "# create subplots\n",
    "fig, axs = plt.subplots(2, 2, figsize=(8.5, 8.5))\n",
    "\n",
    "# create box plots\n",
    "# Find the rows containing '>4096'\n",
    "cols_to_normalize = ['acl_iga' , 'acl_igg', 'acl_igm', 'ana']\n",
    "mask = (lab_results[cols_to_normalize] == '>4096').any(axis=1)\n",
    "# Drop the rows containing '>4096'\n",
    "lab_results = lab_results.drop(index=lab_results[mask].index)\n",
    "boxp = lab_results[['acl_iga' , 'acl_igg', 'acl_igm', 'ana']].astype(float)\n",
    "axs[0, 0].boxplot(boxp['acl_iga'])\n",
    "axs[0, 0].set_title('acl_iga')\n",
    "axs[0, 1].boxplot(boxp['acl_igg'])\n",
    "axs[0, 1].set_title('acl_igg')\n",
    "axs[1, 0].boxplot(boxp['acl_igm'])\n",
    "axs[1, 0].set_title('acl_igm')\n",
    "axs[1, 1].boxplot(boxp['ana'])\n",
    "axs[1, 1].set_title('ana')\n",
    "\n",
    "# add x-axis label\n",
    "for ax in axs.flat:\n",
    "    ax.set_xlabel('Feature')\n",
    "\n",
    "# add y-axis label\n",
    "for ax in axs.flat:\n",
    "    ax.set_ylabel('Value')\n",
    "\n",
    "# add overall title\n",
    "plt.suptitle('Box plots of features', fontsize=16)\n",
    "\n",
    "# adjust layout\n",
    "plt.tight_layout()\n",
    "\n",
    "# show plot\n",
    "plt.show()\n"
   ]
  },
  {
   "cell_type": "markdown",
   "metadata": {},
   "source": [
    "The data now is in a better state to analyze (a handful of outliers remain). Below is a radar chart that shows how patients that do not have Thrombosis compare to those who have (and the different levels) in terms of lab results (averaged results)."
   ]
  },
  {
   "cell_type": "code",
   "execution_count": null,
   "metadata": {},
   "outputs": [],
   "source": [
    "# Normalize columns to have them all in the same scale \n",
    "\n",
    "\n",
    "from sklearn.preprocessing import StandardScaler\n",
    "\n",
    "\n",
    "scaler = StandardScaler()\n",
    "cols_to_normalize = [col for col in lab_results.columns if col != 'thrombosis']\n",
    "lab_results_norm = pd.DataFrame(scaler.fit_transform(lab_results.loc[:, cols_to_normalize]), columns=cols_to_normalize, index=lab_results.index)\n",
    "lab_results_norm['thrombosis'] = lab_results['thrombosis']\n",
    "\n",
    "# Get the means of each thrombosis group\n",
    "\n",
    "means = lab_results_norm.groupby('thrombosis').mean().reset_index()\n",
    "\n",
    "categories = ['acl_iga', 'acl_igg', 'acl_igm', 'ana']\n",
    "\n",
    "variable1 = means.iloc[0, :].values\n",
    "variable2 = means.iloc[1, :].values\n",
    "variable3 = means.iloc[2, :].values\n",
    "variable4 = means.iloc[3, :].values\n",
    "\n",
    "label_loc = np.linspace(start=0, stop=2 * np.pi, num=len(variable1))\n",
    "\n",
    "# Set colors and fill\n",
    "colors = ['#4DBBD5', '#00A087', '#E64B35', '#3C5488']\n",
    "fill_colors = ['#8ED4EB', '#4DD0C1', '#FF987D', '#7081BB']\n",
    "\n",
    "\n",
    "plt.figure(figsize=(8.5, 8.5))\n",
    "plt.subplot(polar=True)\n",
    "plt.fill_between(label_loc, variable1, 0, alpha=0.2, color=fill_colors[0])\n",
    "plt.plot(label_loc, variable1,\n",
    "         color=colors[0], label='No Thrombosis', linewidth=2)\n",
    "\n",
    "plt.fill_between(label_loc, variable2, 0, alpha=0.2, color=fill_colors[1])\n",
    "plt.plot(label_loc, variable2,\n",
    "         color=colors[1], label='Thrombosis 1', linewidth=2)\n",
    "\n",
    "plt.fill_between(label_loc, variable3, 0, alpha=0.2, color=fill_colors[2])\n",
    "plt.plot(label_loc, variable3,\n",
    "         color=colors[2], label='Thrombosis 2', linewidth=2)\n",
    "\n",
    "plt.fill_between(label_loc, variable4, 0, alpha=0.2, color=fill_colors[3])\n",
    "plt.plot(label_loc, variable4,\n",
    "         color=colors[3], label='Thrombosis 3', linewidth=2)\n",
    "\n",
    "\n",
    "plt.title('Lab results averages of patients', size=24)\n",
    "\n",
    "lines, labels = plt.thetagrids(np.degrees(label_loc), labels=[\n",
    "                               ''] + categories, color='gray')\n",
    "\n",
    "                               \n",
    "\n",
    "plt.legend(loc='lower right' , bbox_to_anchor=(0.5, -0.3), ncol=2)\n",
    "plt.tight_layout()\n",
    "plt.show()\n"
   ]
  },
  {
   "cell_type": "markdown",
   "metadata": {},
   "source": [
    "The radar chart shows that the only lab results that show significant differences between different Thrombosis groups are:\n",
    "\n",
    "* ANA: The higher the ANA value the more severe the Thrombosis diagnosis.\n",
    "* ACL_IGG: Thrombosis level 1 seems to have, on average, the highest acl_igg values among all groups. The fact that people with no Thrombosis and Thrombosis levels 2 and 3 have pretty close acl_igg values is weird but nevertheless, it shows some potential predictive power for Level 1 diagnosis.\n",
    "\n",
    "It will be important to to the same kind of analysis with the other lab results in df_C later on.\n",
    "\n",
    "\n",
    "\n",
    "A possible predictor of Thrombosis could be the symptoms a patient is experiencing.\n"
   ]
  },
  {
   "cell_type": "code",
   "execution_count": null,
   "metadata": {},
   "outputs": [],
   "source": [
    "from wordcloud import WordCloud, STOPWORDS\n",
    "import random\n",
    "import matplotlib.pyplot as plt\n",
    "\n",
    "\n",
    "# Read original dataset again\n",
    "B = pd.read_csv(\"data/TSUMOTO_B.csv\" ,  encoding='ISO-8859-1')\n",
    "\n",
    "# Define the thrombosis categories to iterate over\n",
    "thrombosis_categories = [1, 2, 3]\n",
    "\n",
    "# Create a figure with three columns\n",
    "fig, axes = plt.subplots(1, 3, figsize=(9, 6))\n",
    "\n",
    "# Iterate over the thrombosis categories and plot a word cloud in each column\n",
    "for i, thrombosis_category in enumerate(thrombosis_categories):\n",
    "\n",
    "    thrombosis_p = B[B['Thrombosis'] == thrombosis_category]\n",
    "\n",
    "    # Concatenate all the strings in the \"Symptoms\" column into a single string\n",
    "    text = ' '.join(thrombosis_p['Symptoms'])\n",
    "\n",
    "    # Create a set of stopwords\n",
    "    stopwords = set(STOPWORDS)\n",
    "    stopwords.update(['Thrombosis', 'ë¦ÄêÉÈû¼îîÉÅÌ', 'öxîîÉ',\n",
    "                      'ë¦ÄêÉÈû¼îîÉ ÅÌ ', 'ÅKè´ù¼ÄY', 'Budd-Chiari', 'ë¦ÄêÉÈû¼îîÉ\u0014ÅÌ', 'ÅKè´ù¼ÄY'])  # Excluding thrombsosis (obvious word) + some words that dont make sense\n",
    "\n",
    "    # Define the color palette\n",
    "    custom_colors = ['#808080', '#F44336']\n",
    "    def color_func(word, font_size, position, orientation, random_state=None, **kwargs):\n",
    "        return random.choice(custom_colors)\n",
    "\n",
    "    # Create a WordCloud object with the custom color palette\n",
    "    wordcloud = WordCloud(width=400, height=400, background_color='white',\n",
    "                          color_func=color_func, stopwords=stopwords).generate(text)\n",
    "\n",
    "    # Plot the word cloud in the corresponding subplot\n",
    "    ax = axes[i]\n",
    "    ax.imshow(wordcloud)\n",
    "    ax.axis(\"off\")\n",
    "    ax.set_title(f\"Thrombosis {thrombosis_category}\")\n",
    "\n",
    "# Adjust the layout of the figure and display it\n",
    "plt.tight_layout()\n",
    "plt.show()\n"
   ]
  },
  {
   "cell_type": "markdown",
   "metadata": {},
   "source": [
    "The main side effects of each thrombosis level are the following:\n",
    "\n",
    "* Level 1: Brain infarction\n",
    "* Level 2: CNS lupus\n",
    "* Level 3: Thrombocytopenia\n",
    "\n",
    "The world clouds also highlight a major issue in the data previously mentioned, the lack of Thrombosis patients, which is why there are fewer and fewer words as the level of Thrombosis is more severe.\n",
    "\n",
    "\n",
    "The next step is understanding the relationship Thrombosis has with the general lab tests' results and if there are any possible predictors over there.\n",
    "\n",
    "The most rational thing to do would be analyzing if there are any correlations between the lab results and Thrombosis. Since we are dealing with correlations between numerical variables and a categorical variable, point-biseral will be used to get that correlation.\n",
    "\n",
    "**Note**: Missing values will be replaced with the column's mean. If more time was given for the project, maybe other data imputation methods could be have been explored.\n",
    "\n",
    "Below is a correlation heatmap that visualizes the correlation of all lab results in the third database with \"Thrombosis\". The rationale behind such a plot would be identifying which lab results are highly correlated with Thrombosis, indicating potential predictive power.\n",
    "\n",
    "**Assumption**: All thrombosis levels were combnied to one category (2 --> 1 , 3 --> 1), since there are very few cases overall, building a predictive model one category of Thrombosis would make more sense."
   ]
  },
  {
   "cell_type": "code",
   "execution_count": null,
   "metadata": {},
   "outputs": [],
   "source": [
    "from scipy import stats\n",
    "\n",
    "\n",
    "# Drop duplicate id and keep last entry, which is the most recent lab test\n",
    "\n",
    "analytic_2 = analytic_2.drop_duplicates(subset=['id'], keep='last')\n",
    "\n",
    "# Keep numeric columns to calculate pb correlation\n",
    "\n",
    "numerical_cols = ['got', 'gpt', 'ldh', 'alp', 'tp', 'alb', 'ua', 'un',\n",
    "       'cre', 't-bil', 't-cho', 'tg', 'cpk', 'wbc', 'rbc', 'hgb', 'hct', 'plt',\n",
    "       'u-pro', 'c3', 'c4','acl_igg',\n",
    "       'acl_igm', 'ana', 'acl_iga', 'thrombosis']\n",
    "\n",
    "# Fill NA with -1 to convert all columns to numeric (will be dropped later)\n",
    "for i in numerical_cols:\n",
    "       analytic_2[i].fillna(value=-1, inplace=True)\n",
    "\n",
    "analytic_2_numeric = analytic_2[numerical_cols]\n",
    "analytic_2_numeric = analytic_2[numerical_cols].apply(pd.to_numeric, errors='coerce')\n",
    "\n",
    "analytic_2_numeric = analytic_2_numeric.astype(float)\n",
    "analytic_2_numeric = analytic_2_numeric.replace(-1, np.nan)  # Replace -1 with NaN\n",
    "col_avg = analytic_2_numeric.mean().astype(float)\n",
    "analytic_2_numeric = analytic_2_numeric.fillna(col_avg)  # Fill NaN values with column averages\n",
    "analytic_2_numeric['thrombosis'] = analytic_2_numeric['thrombosis'].replace({2: 1, 3: 1}) # Combine all thrombosis cases into 1 category\n",
    "analytic_2_numeric['thrombosis'] = analytic_2_numeric['thrombosis'].astype('int')\n",
    "\n",
    "columns = []\n",
    "correlations = []\n",
    "# Compute the point-biserial correlation coefficient for each numerical column\n",
    "for column in analytic_2_numeric.select_dtypes(include='number'):\n",
    "    # Skip columns that have NaN values\n",
    "    if analytic_2_numeric[column].isnull().values.any():\n",
    "        print(f'Skipping column {column} because it has NaN values')\n",
    "        continue\n",
    "    \n",
    "    # Compute the correlation coefficient and p-value, even if there are NaNs\n",
    "    x = analytic_2_numeric[column].values\n",
    "    y = analytic_2_numeric['thrombosis'].values\n",
    "    mask = np.isfinite(x) & np.isfinite(y)\n",
    "    x = x[mask]\n",
    "    y = y[mask]\n",
    "    corr, p_value = stats.pearsonr(x, y)\n",
    "    \n",
    "    columns.append(column)\n",
    "    correlations.append(corr)\n",
    "\n",
    "correlationsdf = pd.DataFrame({'Variable':columns , 'Correlation with Thrombosis':correlations})\n",
    "\n",
    "\n",
    "# Visualize correlationsdf\n",
    "\n",
    "# create an array of values\n",
    "values = np.array(correlationsdf['Correlation with Thrombosis'].values)\n",
    "\n",
    "# create a colormap\n",
    "cmap = plt.cm.get_cmap('Reds')\n",
    "\n",
    "# create a figure and axis with larger size\n",
    "fig, ax = plt.subplots(figsize=(10, 10))\n",
    "\n",
    "# plot the heatmap (transposed)\n",
    "heatmap = ax.imshow(values.reshape(1, -1).T, cmap=cmap)\n",
    "\n",
    "# remove the x-axis and set the y-axis ticks to the middle of each bin\n",
    "ax.set_xticks([])\n",
    "ax.set_yticks(np.arange(values.size))\n",
    "ax.set_yticklabels(correlationsdf['Variable'].values)\n",
    "\n",
    "# add colorbar legend\n",
    "cbar = fig.colorbar(heatmap)\n",
    "\n",
    "# show the plot\n",
    "plt.show()"
   ]
  },
  {
   "cell_type": "markdown",
   "metadata": {},
   "source": [
    "The heatmap above clearly highlights how none of the lab result variables are significantly correlated with whether or not a person has Thrombosis, making almost all the dataset irrelevant when it comes to further understanding the disease. The only variables that have some sort of correlation are acl_igg and ana (both in the 0.2-0.4 range), and both come from df_B, making the third dataset even more useless.\n",
    "\n",
    "\n",
    "# Technical Summary \n",
    "\n",
    "Suprisingly, the data provided for this analysis much lower in quality than expected, especially since it is coming from such a presigious institution. The main issues i found with the data provided are:\n",
    "\n",
    "* Missing Values: Missing values is a very serious issue with this data, especiialy in tsumto_c, which had almost half the columns/features in the dataset having more than 80% missing values. This issue was the main obstacle in terms of trying to further understand Thrombosis and its relationship with the general lab tests. There could be some important relationships and patterns that were not deciphered because of this issue.\n",
    "\n",
    "* Lack of Thrombosis cases: This research project's main focus was understanding Thrombosis at a deeper level and uncovering patterns in the data that could serve has predictors to this disease. However, the data provided barely has any Thrombosis cases, especially more severe ones (levels 2 and 3), making any analysis very sensitive to the addition of larger number of cases.\n",
    "\n",
    "* Imbalanced Data: Dataset tsumoto_b was highly imbalanced, with almost all patients (around 85%) being females, which could lead to inaccurate conclusions that Thrombosis occurs much more frequently with females (When sampling to thrombosis + cases only is done). A proper analysis on gender could not be conducted because of this.          \n",
    "\n",
    "* Dates: There is a **huge** difference between the dates patients are testing for thrombosis and their lab tests, with some of them having more than a 5 year difference. This makes any analysis on lab results (tsumoto_c) very weak considering the patients' actual results would have been very different if they had more recent (closer to Thrombosis examination) lab tests.\n",
    "\n",
    "However, it is important to mention that all the data was collected between the years 1989 and 1996 where the data collection methods were not the most advanced and discrepancies in data was common in the industry. A better idea would be conducting an analysis on thrombosis using more recent data if available.\n",
    "\n",
    "In terms of main findings, they are the following (elaborated more in results.html):\n",
    "\n",
    "* Level 3 Thrombosis appears to happen with people on the higher end of the age distirbution.\n",
    "* ANA and aCl_igG seem to be the lab results that **could** have the most predictive power.\n",
    "* Different levels of Thrombosis are accompanied with different sets of symptoms.\n",
    "\n",
    "\n",
    "# Final Results\n",
    "\n",
    "\n",
    "<figure>\n",
    "  <img src=\"Final-plots/age_distribution.png\" alt=\"Thrombosis Age Distribution\">\n",
    "  <figcaption style=\"color:black; text-align:center; margin-left: 10px;\">Figure 1: Distribution of age among thrombosis patients.</figcaption>\n",
    "</figure>\n",
    "\n",
    "Figure 1 illustrates that the most severe cases of Thrombosis (Level 3) tend to occur with people in the age range 35-55, which is a bit more than the age\n",
    "ranges of people that have less severe cases of Thrombosis. This might indicate that the age of a patient could have a say of the Thrombosis level they are diagnosed with, but probably is not powerful enough to conclude if a person has Thrombosis or not. In other words, if patient A has Thrombosis, age might tell us whether he has level 1, 2, or 3 Thrombosis. However, if patient A comes in to test for Thrombosis without prior knowledge if they have the disease, then their age might not be indicative of anything.\n",
    "\n",
    "<br><br><br><br><br>\n",
    "<figure>\n",
    "  <img src=\"Final-plots/radar.png\" alt=\"Lab Results per Thrombosis Level\">\n",
    "  <figcaption style=\"color:black; text-align:center; margin-left: 10px;\">Figure 2: Average lab results per Thrombosis level.</figcaption>\n",
    "</figure>\n",
    "\n",
    "In terms of the special lab tests conducted at the Laboratory of Collagen Diseases, Figure 2 strongly suggests that ana and acl_igg are good indicators of whether a person has Thrombosis. The plot shows that the higher a patient's degree of Thrombosis is, the higher that patient's ANA values are (on average). As for aCL IgG, it is much higher for people with Level 1 Thrombosis than all other cases, with that value dropping as the degree of severity increases. If more tests were provided in a proper dataset, maybe additional relevant features could have been found. <br><br>\n",
    "\n",
    "<figure>\n",
    "  <img src=\"Final-plots/word_clouds.png\" alt=\"Word Clouds\">\n",
    "  <figcaption style=\"color:black; text-align:center; margin-left: 10px;\">Figure 3: Most prevalent symptoms per Thrombosis level.</figcaption>\n",
    "</figure>\n",
    "\n",
    "\n",
    "Figure 3 shows that different levels of Thrombosis are accompanied by different sets of symptoms that are prevalent for each group. Specifically:\n",
    "\n",
    "* Brain infarction is the most dominant symptom for Thrombosis Level 1 patients.\n",
    "* CNS lupus is the most dominant symptom for Thrombosis Level 2 patients.\n",
    "* Throbocytopenia is the most dominant symptom for Thrombosis Level 3 patients.\n",
    "\n",
    "Patients that come into a clinic with any of these symptoms could provide an initial guess as to which Thrombosis level they might have, however more data (with higher quality) is needed to validate this claim.\n",
    "\n",
    "\n",
    "<figure>\n",
    "  <img src=\"Final-plots/heatmap.png\" alt=\"Correlation Heatmap\">\n",
    "  <figcaption style=\"color:black; text-align:center; margin-left: 10px;\">Figure 4: Correlation of lab test results with Thrombosis.</figcaption>\n",
    "</figure>\n",
    "\n",
    "Finally, Figure 4 indicates that only 2 of the Laboratory tests that were provided data for are possible predictors of Thrombosis, ANA and aCL IgG. This figure uses different mathematical techniques to validate what was concluded by Figure 1, which further validates the idea that there could be lab tests being carried out that have the potential to predict the possibility of a patient getting Thrombosis.\n",
    "\n",
    "# Conclusion\n",
    "\n",
    "Overall, this research project has highlighted two crucial points. Firstly, thrombosis can potentially be predicted using routine lab tests carried out at hospitals on a daily basis. If this claim is further examined and proven true, it could save thousands of lives from this severe disease. Secondly, despite the limited and low-quality data provided, this study has improved our understanding of thrombosis, and there is clear potential for even more discoveries.\n",
    "\n",
    "Although my work does not provide a definitive solution for predicting or preventing thrombosis, it serves as a stepping stone towards securing proper funding, obtaining more and better quality data, and building a larger team of scientists to further explore the promising findings of this research.\n",
    "\n",
    "\n",
    "<a href=\"https://github.com/anly503/hw2-spring-2023-anthonymoub\">Github Repo</a>"
   ]
  }
 ],
 "metadata": {
  "kernelspec": {
   "display_name": "Python 3 (ipykernel)",
   "language": "python",
   "name": "python3"
  }
 },
 "nbformat": 4,
 "nbformat_minor": 4
}
