{
 "cells": [
  {
   "cell_type": "code",
   "execution_count": 1,
   "metadata": {},
   "outputs": [],
   "source": [
    "import pandas as pd\n",
    "import numpy as np\n",
    "import matplotlib.pyplot as plt\n",
    "%matplotlib inline              \n",
    "import seaborn as sns\n",
    "from haversine import haversine #for working with latitudinal and longitudinal data points\n",
    "import math                     #for basic math operations\n",
    "import warnings\n",
    "from pandas.plotting import parallel_coordinates #for multivariate plots\n",
    "warnings.filterwarnings('ignore') #ignore deprecation warnings\n",
    "import folium\n",
    "from folium.plugins import HeatMap"
   ]
  },
  {
   "cell_type": "markdown",
   "metadata": {},
   "source": [
    "# Linear Regression Objective:\n",
    "\n",
    "## To predict the bike rental duration if details such as rideable type, member type, distance covered and the location (start (lats, longs) and end (lats, longs)) are given."
   ]
  },
  {
   "cell_type": "code",
   "execution_count": 2,
   "metadata": {},
   "outputs": [],
   "source": [
    "#importing data\n",
    "dataset = pd.read_csv('Combined_df_teg.csv')\n",
    "dataset = dataset.drop(['Unnamed: 0', 'Unnamed: 1'], axis=1)\n",
    "dataset['Member.type'] = dataset['Member.type'].str.lower()"
   ]
  },
  {
   "cell_type": "code",
   "execution_count": 3,
   "metadata": {},
   "outputs": [],
   "source": [
    "# Cluster data\n",
    "\n",
    "from statistics import mode\n",
    "from sklearn.cluster import KMeans\n",
    "from scipy.spatial.distance import cdist\n",
    "from sklearn.metrics import accuracy_score\n",
    "from math import radians\n",
    "\n",
    "dataset['start_lat'] = dataset['start_lat'].apply(radians)\n",
    "dataset['start_lng'] = dataset['start_lng'].apply(radians)\n",
    "dataset['end_lat'] = dataset['end_lat'].apply(radians)\n",
    "dataset['end_lng'] = dataset['end_lng'].apply(radians)\n",
    "\n",
    "X = dataset[['start_lat', 'start_lng', 'end_lat', 'end_lng']].values\n",
    "y = dataset['Duration'].values\n",
    "\n",
    "bestK = KMeans(n_clusters=3, init='k-means++', random_state=42)\n",
    "labels4 = bestK.fit_predict(X)\n",
    "dataset['kmeans_labels'] = labels4"
   ]
  },
  {
   "cell_type": "code",
   "execution_count": 4,
   "metadata": {},
   "outputs": [
    {
     "data": {
      "text/html": [
       "<div>\n",
       "<style scoped>\n",
       "    .dataframe tbody tr th:only-of-type {\n",
       "        vertical-align: middle;\n",
       "    }\n",
       "\n",
       "    .dataframe tbody tr th {\n",
       "        vertical-align: top;\n",
       "    }\n",
       "\n",
       "    .dataframe thead th {\n",
       "        text-align: right;\n",
       "    }\n",
       "</style>\n",
       "<table border=\"1\" class=\"dataframe\">\n",
       "  <thead>\n",
       "    <tr style=\"text-align: right;\">\n",
       "      <th></th>\n",
       "      <th>Duration</th>\n",
       "      <th>Start.date</th>\n",
       "      <th>End.date</th>\n",
       "      <th>Start.station.number</th>\n",
       "      <th>Start.station</th>\n",
       "      <th>End.station.number</th>\n",
       "      <th>End.station</th>\n",
       "      <th>rideable_type</th>\n",
       "      <th>Member.type</th>\n",
       "      <th>start_lat</th>\n",
       "      <th>start_lng</th>\n",
       "      <th>end_lat</th>\n",
       "      <th>end_lng</th>\n",
       "      <th>distance_miles</th>\n",
       "      <th>kmeans_labels</th>\n",
       "    </tr>\n",
       "  </thead>\n",
       "  <tbody>\n",
       "    <tr>\n",
       "      <th>0</th>\n",
       "      <td>27.583333</td>\n",
       "      <td>2016-09-15 05:38:08</td>\n",
       "      <td>2016-09-15 06:05:43</td>\n",
       "      <td>31000.0</td>\n",
       "      <td>Eads St &amp; 15th St S</td>\n",
       "      <td>31205.0</td>\n",
       "      <td>21st &amp; I St NW</td>\n",
       "      <td>classic_bike</td>\n",
       "      <td>member</td>\n",
       "      <td>0.678218</td>\n",
       "      <td>-1.344834</td>\n",
       "      <td>0.678945</td>\n",
       "      <td>-1.344714</td>\n",
       "      <td>2.902853</td>\n",
       "      <td>1</td>\n",
       "    </tr>\n",
       "    <tr>\n",
       "      <th>1</th>\n",
       "      <td>6.400000</td>\n",
       "      <td>2016-02-02 20:08:34</td>\n",
       "      <td>2016-02-02 20:14:58</td>\n",
       "      <td>31000.0</td>\n",
       "      <td>Eads St &amp; 15th St S</td>\n",
       "      <td>31005.0</td>\n",
       "      <td>Pentagon City Metro / 12th &amp; S Hayes St</td>\n",
       "      <td>classic_bike</td>\n",
       "      <td>member</td>\n",
       "      <td>0.678218</td>\n",
       "      <td>-1.344834</td>\n",
       "      <td>0.678275</td>\n",
       "      <td>-1.344950</td>\n",
       "      <td>0.422571</td>\n",
       "      <td>1</td>\n",
       "    </tr>\n",
       "    <tr>\n",
       "      <th>2</th>\n",
       "      <td>112.516667</td>\n",
       "      <td>2016-01-16 11:52:15</td>\n",
       "      <td>2016-01-16 13:44:46</td>\n",
       "      <td>31000.0</td>\n",
       "      <td>Eads St &amp; 15th St S</td>\n",
       "      <td>31000.0</td>\n",
       "      <td>Eads St &amp; 15th St S</td>\n",
       "      <td>classic_bike</td>\n",
       "      <td>casual</td>\n",
       "      <td>0.678218</td>\n",
       "      <td>-1.344834</td>\n",
       "      <td>0.678217</td>\n",
       "      <td>-1.344833</td>\n",
       "      <td>0.005750</td>\n",
       "      <td>1</td>\n",
       "    </tr>\n",
       "    <tr>\n",
       "      <th>3</th>\n",
       "      <td>22.533333</td>\n",
       "      <td>2016-04-24 07:32:58</td>\n",
       "      <td>2016-04-24 07:55:30</td>\n",
       "      <td>31000.0</td>\n",
       "      <td>Eads St &amp; 15th St S</td>\n",
       "      <td>31247.0</td>\n",
       "      <td>Jefferson Dr &amp; 14th St SW</td>\n",
       "      <td>classic_bike</td>\n",
       "      <td>casual</td>\n",
       "      <td>0.678218</td>\n",
       "      <td>-1.344834</td>\n",
       "      <td>0.678733</td>\n",
       "      <td>-1.344469</td>\n",
       "      <td>2.327890</td>\n",
       "      <td>1</td>\n",
       "    </tr>\n",
       "    <tr>\n",
       "      <th>4</th>\n",
       "      <td>17.316667</td>\n",
       "      <td>2016-05-16 09:40:43</td>\n",
       "      <td>2016-05-16 09:58:03</td>\n",
       "      <td>31000.0</td>\n",
       "      <td>Eads St &amp; 15th St S</td>\n",
       "      <td>31088.0</td>\n",
       "      <td>Mount Vernon Ave &amp; Kennedy St</td>\n",
       "      <td>classic_bike</td>\n",
       "      <td>casual</td>\n",
       "      <td>0.678218</td>\n",
       "      <td>-1.344834</td>\n",
       "      <td>0.677765</td>\n",
       "      <td>-1.344948</td>\n",
       "      <td>1.827691</td>\n",
       "      <td>1</td>\n",
       "    </tr>\n",
       "  </tbody>\n",
       "</table>\n",
       "</div>"
      ],
      "text/plain": [
       "     Duration           Start.date             End.date  Start.station.number  \\\n",
       "0   27.583333  2016-09-15 05:38:08  2016-09-15 06:05:43               31000.0   \n",
       "1    6.400000  2016-02-02 20:08:34  2016-02-02 20:14:58               31000.0   \n",
       "2  112.516667  2016-01-16 11:52:15  2016-01-16 13:44:46               31000.0   \n",
       "3   22.533333  2016-04-24 07:32:58  2016-04-24 07:55:30               31000.0   \n",
       "4   17.316667  2016-05-16 09:40:43  2016-05-16 09:58:03               31000.0   \n",
       "\n",
       "         Start.station  End.station.number  \\\n",
       "0  Eads St & 15th St S             31205.0   \n",
       "1  Eads St & 15th St S             31005.0   \n",
       "2  Eads St & 15th St S             31000.0   \n",
       "3  Eads St & 15th St S             31247.0   \n",
       "4  Eads St & 15th St S             31088.0   \n",
       "\n",
       "                               End.station rideable_type Member.type  \\\n",
       "0                           21st & I St NW  classic_bike      member   \n",
       "1  Pentagon City Metro / 12th & S Hayes St  classic_bike      member   \n",
       "2                      Eads St & 15th St S  classic_bike      casual   \n",
       "3                Jefferson Dr & 14th St SW  classic_bike      casual   \n",
       "4            Mount Vernon Ave & Kennedy St  classic_bike      casual   \n",
       "\n",
       "   start_lat  start_lng   end_lat   end_lng  distance_miles  kmeans_labels  \n",
       "0   0.678218  -1.344834  0.678945 -1.344714        2.902853              1  \n",
       "1   0.678218  -1.344834  0.678275 -1.344950        0.422571              1  \n",
       "2   0.678218  -1.344834  0.678217 -1.344833        0.005750              1  \n",
       "3   0.678218  -1.344834  0.678733 -1.344469        2.327890              1  \n",
       "4   0.678218  -1.344834  0.677765 -1.344948        1.827691              1  "
      ]
     },
     "execution_count": 4,
     "metadata": {},
     "output_type": "execute_result"
    }
   ],
   "source": [
    "dataset.head()"
   ]
  },
  {
   "cell_type": "code",
   "execution_count": 5,
   "metadata": {},
   "outputs": [],
   "source": [
    "# Drop redundant columns\n",
    "dataset.drop(columns=['Start.station', 'End.station', 'Start.station.number', 'End.station.number', 'start_lat', 'start_lng', 'end_lat', 'end_lng'], inplace=True)"
   ]
  },
  {
   "cell_type": "code",
   "execution_count": 6,
   "metadata": {},
   "outputs": [
    {
     "data": {
      "text/html": [
       "<div>\n",
       "<style scoped>\n",
       "    .dataframe tbody tr th:only-of-type {\n",
       "        vertical-align: middle;\n",
       "    }\n",
       "\n",
       "    .dataframe tbody tr th {\n",
       "        vertical-align: top;\n",
       "    }\n",
       "\n",
       "    .dataframe thead th {\n",
       "        text-align: right;\n",
       "    }\n",
       "</style>\n",
       "<table border=\"1\" class=\"dataframe\">\n",
       "  <thead>\n",
       "    <tr style=\"text-align: right;\">\n",
       "      <th></th>\n",
       "      <th>Duration</th>\n",
       "      <th>Start.date</th>\n",
       "      <th>End.date</th>\n",
       "      <th>rideable_type</th>\n",
       "      <th>Member.type</th>\n",
       "      <th>distance_miles</th>\n",
       "      <th>kmeans_labels</th>\n",
       "    </tr>\n",
       "  </thead>\n",
       "  <tbody>\n",
       "    <tr>\n",
       "      <th>0</th>\n",
       "      <td>27.583333</td>\n",
       "      <td>2016-09-15 05:38:08</td>\n",
       "      <td>2016-09-15 06:05:43</td>\n",
       "      <td>classic_bike</td>\n",
       "      <td>member</td>\n",
       "      <td>2.902853</td>\n",
       "      <td>1</td>\n",
       "    </tr>\n",
       "    <tr>\n",
       "      <th>1</th>\n",
       "      <td>6.400000</td>\n",
       "      <td>2016-02-02 20:08:34</td>\n",
       "      <td>2016-02-02 20:14:58</td>\n",
       "      <td>classic_bike</td>\n",
       "      <td>member</td>\n",
       "      <td>0.422571</td>\n",
       "      <td>1</td>\n",
       "    </tr>\n",
       "    <tr>\n",
       "      <th>2</th>\n",
       "      <td>112.516667</td>\n",
       "      <td>2016-01-16 11:52:15</td>\n",
       "      <td>2016-01-16 13:44:46</td>\n",
       "      <td>classic_bike</td>\n",
       "      <td>casual</td>\n",
       "      <td>0.005750</td>\n",
       "      <td>1</td>\n",
       "    </tr>\n",
       "    <tr>\n",
       "      <th>3</th>\n",
       "      <td>22.533333</td>\n",
       "      <td>2016-04-24 07:32:58</td>\n",
       "      <td>2016-04-24 07:55:30</td>\n",
       "      <td>classic_bike</td>\n",
       "      <td>casual</td>\n",
       "      <td>2.327890</td>\n",
       "      <td>1</td>\n",
       "    </tr>\n",
       "    <tr>\n",
       "      <th>4</th>\n",
       "      <td>17.316667</td>\n",
       "      <td>2016-05-16 09:40:43</td>\n",
       "      <td>2016-05-16 09:58:03</td>\n",
       "      <td>classic_bike</td>\n",
       "      <td>casual</td>\n",
       "      <td>1.827691</td>\n",
       "      <td>1</td>\n",
       "    </tr>\n",
       "  </tbody>\n",
       "</table>\n",
       "</div>"
      ],
      "text/plain": [
       "     Duration           Start.date             End.date rideable_type  \\\n",
       "0   27.583333  2016-09-15 05:38:08  2016-09-15 06:05:43  classic_bike   \n",
       "1    6.400000  2016-02-02 20:08:34  2016-02-02 20:14:58  classic_bike   \n",
       "2  112.516667  2016-01-16 11:52:15  2016-01-16 13:44:46  classic_bike   \n",
       "3   22.533333  2016-04-24 07:32:58  2016-04-24 07:55:30  classic_bike   \n",
       "4   17.316667  2016-05-16 09:40:43  2016-05-16 09:58:03  classic_bike   \n",
       "\n",
       "  Member.type  distance_miles  kmeans_labels  \n",
       "0      member        2.902853              1  \n",
       "1      member        0.422571              1  \n",
       "2      casual        0.005750              1  \n",
       "3      casual        2.327890              1  \n",
       "4      casual        1.827691              1  "
      ]
     },
     "execution_count": 6,
     "metadata": {},
     "output_type": "execute_result"
    }
   ],
   "source": [
    "dataset.head()"
   ]
  },
  {
   "cell_type": "code",
   "execution_count": 7,
   "metadata": {},
   "outputs": [],
   "source": [
    "# using pd.to_datetime do feature engineering\n",
    "# dataset['Start.date'] = pd.to_datetime(dataset['Start.date'])\n",
    "# dataset['End.date'] = pd.to_datetime(dataset['End.date'])\n",
    "\n",
    "dataset.drop(columns=['Start.date', 'End.date'], inplace=True)"
   ]
  },
  {
   "cell_type": "code",
   "execution_count": 8,
   "metadata": {},
   "outputs": [
    {
     "data": {
      "text/html": [
       "<div>\n",
       "<style scoped>\n",
       "    .dataframe tbody tr th:only-of-type {\n",
       "        vertical-align: middle;\n",
       "    }\n",
       "\n",
       "    .dataframe tbody tr th {\n",
       "        vertical-align: top;\n",
       "    }\n",
       "\n",
       "    .dataframe thead th {\n",
       "        text-align: right;\n",
       "    }\n",
       "</style>\n",
       "<table border=\"1\" class=\"dataframe\">\n",
       "  <thead>\n",
       "    <tr style=\"text-align: right;\">\n",
       "      <th></th>\n",
       "      <th>Duration</th>\n",
       "      <th>rideable_type</th>\n",
       "      <th>Member.type</th>\n",
       "      <th>distance_miles</th>\n",
       "      <th>kmeans_labels</th>\n",
       "    </tr>\n",
       "  </thead>\n",
       "  <tbody>\n",
       "    <tr>\n",
       "      <th>0</th>\n",
       "      <td>27.583333</td>\n",
       "      <td>classic_bike</td>\n",
       "      <td>member</td>\n",
       "      <td>2.902853</td>\n",
       "      <td>1</td>\n",
       "    </tr>\n",
       "    <tr>\n",
       "      <th>1</th>\n",
       "      <td>6.400000</td>\n",
       "      <td>classic_bike</td>\n",
       "      <td>member</td>\n",
       "      <td>0.422571</td>\n",
       "      <td>1</td>\n",
       "    </tr>\n",
       "    <tr>\n",
       "      <th>2</th>\n",
       "      <td>112.516667</td>\n",
       "      <td>classic_bike</td>\n",
       "      <td>casual</td>\n",
       "      <td>0.005750</td>\n",
       "      <td>1</td>\n",
       "    </tr>\n",
       "    <tr>\n",
       "      <th>3</th>\n",
       "      <td>22.533333</td>\n",
       "      <td>classic_bike</td>\n",
       "      <td>casual</td>\n",
       "      <td>2.327890</td>\n",
       "      <td>1</td>\n",
       "    </tr>\n",
       "    <tr>\n",
       "      <th>4</th>\n",
       "      <td>17.316667</td>\n",
       "      <td>classic_bike</td>\n",
       "      <td>casual</td>\n",
       "      <td>1.827691</td>\n",
       "      <td>1</td>\n",
       "    </tr>\n",
       "  </tbody>\n",
       "</table>\n",
       "</div>"
      ],
      "text/plain": [
       "     Duration rideable_type Member.type  distance_miles  kmeans_labels\n",
       "0   27.583333  classic_bike      member        2.902853              1\n",
       "1    6.400000  classic_bike      member        0.422571              1\n",
       "2  112.516667  classic_bike      casual        0.005750              1\n",
       "3   22.533333  classic_bike      casual        2.327890              1\n",
       "4   17.316667  classic_bike      casual        1.827691              1"
      ]
     },
     "execution_count": 8,
     "metadata": {},
     "output_type": "execute_result"
    }
   ],
   "source": [
    "# dataset['start_year'] = dataset['Start.date'].dt.year\n",
    "# dataset['start_month'] = dataset['Start.date'].dt.month\n",
    "# dataset['start_day'] = dataset['Start.date'].dt.day\n",
    "\n",
    "# dataset['end_year'] = dataset['End.date'].dt.year\n",
    "# dataset['end_month'] = dataset['End.date'].dt.month\n",
    "# dataset['end_day'] = dataset['End.date'].dt.day\n",
    "\n",
    "dataset.head()"
   ]
  },
  {
   "cell_type": "code",
   "execution_count": 9,
   "metadata": {},
   "outputs": [],
   "source": [
    "data_model = dataset.sample(frac=0.01).reset_index(drop=True)"
   ]
  },
  {
   "cell_type": "code",
   "execution_count": 11,
   "metadata": {},
   "outputs": [
    {
     "data": {
      "text/plain": [
       "(21072, 5)"
      ]
     },
     "execution_count": 11,
     "metadata": {},
     "output_type": "execute_result"
    }
   ],
   "source": [
    "data_model.shape"
   ]
  },
  {
   "cell_type": "code",
   "execution_count": 12,
   "metadata": {},
   "outputs": [],
   "source": [
    "X = data_model.drop(columns=['Duration'])\n",
    "y = data_model['Duration']"
   ]
  },
  {
   "cell_type": "code",
   "execution_count": 13,
   "metadata": {},
   "outputs": [
    {
     "data": {
      "image/png": "[encoded data removed]",
      "text/plain": [
       "<Figure size 800x800 with 2 Axes>"
      ]
     },
     "metadata": {},
     "output_type": "display_data"
    }
   ],
   "source": [
    "from matplotlib import rcParams\n",
    "corrMatt = X.corr()\n",
    "mask = np.array(corrMatt)\n",
    "# Turning the lower-triangle of the array to false\n",
    "mask[np.tril_indices_from(mask)] = False\n",
    "rcParams['figure.figsize'] = 8,8\n",
    "rcParams['figure.dpi'] = 100\n",
    "fig,ax = plt.subplots()\n",
    "sns.heatmap(corrMatt, \n",
    "            mask=mask,\n",
    "            vmax=.8, \n",
    "            square=True,\n",
    "            annot=True, fmt='.2f',\n",
    "            cmap=sns.light_palette(\"seagreen\", as_cmap=True)\n",
    ")\n",
    "ax.set_xticklabels(\n",
    "    ax.get_xticklabels(),\n",
    "    rotation=45,\n",
    "    horizontalalignment='right'\n",
    ")\n",
    "plt.title('Correlation plot of variables')\n",
    "plt.rc('font',size=10)"
   ]
  },
  {
   "cell_type": "code",
   "execution_count": 14,
   "metadata": {},
   "outputs": [
    {
     "data": {
      "text/html": [
       "<div>\n",
       "<style scoped>\n",
       "    .dataframe tbody tr th:only-of-type {\n",
       "        vertical-align: middle;\n",
       "    }\n",
       "\n",
       "    .dataframe tbody tr th {\n",
       "        vertical-align: top;\n",
       "    }\n",
       "\n",
       "    .dataframe thead th {\n",
       "        text-align: right;\n",
       "    }\n",
       "</style>\n",
       "<table border=\"1\" class=\"dataframe\">\n",
       "  <thead>\n",
       "    <tr style=\"text-align: right;\">\n",
       "      <th></th>\n",
       "      <th>rideable_type</th>\n",
       "      <th>Member.type</th>\n",
       "      <th>distance_miles</th>\n",
       "      <th>kmeans_labels</th>\n",
       "    </tr>\n",
       "  </thead>\n",
       "  <tbody>\n",
       "    <tr>\n",
       "      <th>0</th>\n",
       "      <td>classic_bike</td>\n",
       "      <td>member</td>\n",
       "      <td>0.276960</td>\n",
       "      <td>1</td>\n",
       "    </tr>\n",
       "    <tr>\n",
       "      <th>1</th>\n",
       "      <td>classic_bike</td>\n",
       "      <td>member</td>\n",
       "      <td>0.990102</td>\n",
       "      <td>1</td>\n",
       "    </tr>\n",
       "    <tr>\n",
       "      <th>2</th>\n",
       "      <td>classic_bike</td>\n",
       "      <td>casual</td>\n",
       "      <td>0.696629</td>\n",
       "      <td>1</td>\n",
       "    </tr>\n",
       "    <tr>\n",
       "      <th>3</th>\n",
       "      <td>classic_bike</td>\n",
       "      <td>member</td>\n",
       "      <td>0.568879</td>\n",
       "      <td>1</td>\n",
       "    </tr>\n",
       "    <tr>\n",
       "      <th>4</th>\n",
       "      <td>classic_bike</td>\n",
       "      <td>member</td>\n",
       "      <td>0.600943</td>\n",
       "      <td>1</td>\n",
       "    </tr>\n",
       "  </tbody>\n",
       "</table>\n",
       "</div>"
      ],
      "text/plain": [
       "  rideable_type Member.type  distance_miles  kmeans_labels\n",
       "0  classic_bike      member        0.276960              1\n",
       "1  classic_bike      member        0.990102              1\n",
       "2  classic_bike      casual        0.696629              1\n",
       "3  classic_bike      member        0.568879              1\n",
       "4  classic_bike      member        0.600943              1"
      ]
     },
     "execution_count": 14,
     "metadata": {},
     "output_type": "execute_result"
    }
   ],
   "source": [
    "X.head()"
   ]
  },
  {
   "cell_type": "code",
   "execution_count": 15,
   "metadata": {},
   "outputs": [],
   "source": [
    "# Encoding categorical data\n",
    "from sklearn.compose import ColumnTransformer\n",
    "from sklearn.preprocessing import OneHotEncoder\n",
    "ct = ColumnTransformer(transformers=[('encoder', OneHotEncoder(), [0,1,3])], remainder='passthrough')\n",
    "X = pd.DataFrame(ct.fit_transform(X))"
   ]
  },
  {
   "cell_type": "code",
   "execution_count": 16,
   "metadata": {},
   "outputs": [
    {
     "data": {
      "text/html": [
       "<div>\n",
       "<style scoped>\n",
       "    .dataframe tbody tr th:only-of-type {\n",
       "        vertical-align: middle;\n",
       "    }\n",
       "\n",
       "    .dataframe tbody tr th {\n",
       "        vertical-align: top;\n",
       "    }\n",
       "\n",
       "    .dataframe thead th {\n",
       "        text-align: right;\n",
       "    }\n",
       "</style>\n",
       "<table border=\"1\" class=\"dataframe\">\n",
       "  <thead>\n",
       "    <tr style=\"text-align: right;\">\n",
       "      <th></th>\n",
       "      <th>0</th>\n",
       "      <th>1</th>\n",
       "      <th>2</th>\n",
       "      <th>3</th>\n",
       "      <th>4</th>\n",
       "      <th>5</th>\n",
       "      <th>6</th>\n",
       "      <th>7</th>\n",
       "    </tr>\n",
       "  </thead>\n",
       "  <tbody>\n",
       "    <tr>\n",
       "      <th>0</th>\n",
       "      <td>1.0</td>\n",
       "      <td>0.0</td>\n",
       "      <td>0.0</td>\n",
       "      <td>0.0</td>\n",
       "      <td>1.0</td>\n",
       "      <td>0.0</td>\n",
       "      <td>1.0</td>\n",
       "      <td>0.276960</td>\n",
       "    </tr>\n",
       "    <tr>\n",
       "      <th>1</th>\n",
       "      <td>1.0</td>\n",
       "      <td>0.0</td>\n",
       "      <td>0.0</td>\n",
       "      <td>0.0</td>\n",
       "      <td>1.0</td>\n",
       "      <td>0.0</td>\n",
       "      <td>1.0</td>\n",
       "      <td>0.990102</td>\n",
       "    </tr>\n",
       "    <tr>\n",
       "      <th>2</th>\n",
       "      <td>1.0</td>\n",
       "      <td>0.0</td>\n",
       "      <td>0.0</td>\n",
       "      <td>1.0</td>\n",
       "      <td>0.0</td>\n",
       "      <td>0.0</td>\n",
       "      <td>1.0</td>\n",
       "      <td>0.696629</td>\n",
       "    </tr>\n",
       "    <tr>\n",
       "      <th>3</th>\n",
       "      <td>1.0</td>\n",
       "      <td>0.0</td>\n",
       "      <td>0.0</td>\n",
       "      <td>0.0</td>\n",
       "      <td>1.0</td>\n",
       "      <td>0.0</td>\n",
       "      <td>1.0</td>\n",
       "      <td>0.568879</td>\n",
       "    </tr>\n",
       "    <tr>\n",
       "      <th>4</th>\n",
       "      <td>1.0</td>\n",
       "      <td>0.0</td>\n",
       "      <td>0.0</td>\n",
       "      <td>0.0</td>\n",
       "      <td>1.0</td>\n",
       "      <td>0.0</td>\n",
       "      <td>1.0</td>\n",
       "      <td>0.600943</td>\n",
       "    </tr>\n",
       "  </tbody>\n",
       "</table>\n",
       "</div>"
      ],
      "text/plain": [
       "     0    1    2    3    4    5    6         7\n",
       "0  1.0  0.0  0.0  0.0  1.0  0.0  1.0  0.276960\n",
       "1  1.0  0.0  0.0  0.0  1.0  0.0  1.0  0.990102\n",
       "2  1.0  0.0  0.0  1.0  0.0  0.0  1.0  0.696629\n",
       "3  1.0  0.0  0.0  0.0  1.0  0.0  1.0  0.568879\n",
       "4  1.0  0.0  0.0  0.0  1.0  0.0  1.0  0.600943"
      ]
     },
     "execution_count": 16,
     "metadata": {},
     "output_type": "execute_result"
    }
   ],
   "source": [
    "X.head()"
   ]
  },
  {
   "cell_type": "code",
   "execution_count": 17,
   "metadata": {},
   "outputs": [
    {
     "data": {
      "text/plain": [
       "0     2.300000\n",
       "1     9.600000\n",
       "2    10.866667\n",
       "3     6.050000\n",
       "4     5.016667\n",
       "Name: Duration, dtype: float64"
      ]
     },
     "execution_count": 17,
     "metadata": {},
     "output_type": "execute_result"
    }
   ],
   "source": [
    "y.head()"
   ]
  },
  {
   "cell_type": "code",
   "execution_count": 18,
   "metadata": {},
   "outputs": [],
   "source": [
    "from sklearn.model_selection import train_test_split\n",
    "X_train, X_test, y_train, y_test = train_test_split(X, y, test_size = 0.2, random_state = 2190)"
   ]
  },
  {
   "cell_type": "code",
   "execution_count": 27,
   "metadata": {},
   "outputs": [
    {
     "name": "stdout",
     "output_type": "stream",
     "text": [
      "MAE: -44.698\n",
      "Config: {'fit_intercept': 0.01}\n"
     ]
    }
   ],
   "source": [
    "# evaluate a linear regression model on the dataset\n",
    "from numpy import mean\n",
    "from numpy import std\n",
    "from numpy import absolute\n",
    "from pandas import read_csv\n",
    "from sklearn.model_selection import cross_val_score\n",
    "from sklearn.model_selection import RepeatedKFold\n",
    "from sklearn.linear_model import LinearRegression\n",
    "from sklearn.model_selection import GridSearchCV\n",
    "\n",
    "# define model\n",
    "model = LinearRegression()\n",
    "# define model evaluation method\n",
    "cv = RepeatedKFold(n_splits=10, n_repeats=3, random_state=1)\n",
    "# define grid\n",
    "grid = dict()\n",
    "# valid params: ['copy_X', 'fit_intercept', 'n_jobs', 'normalize', 'positive'].\n",
    "grid['fit_intercept'] = np.arange(0, 1, 0.01)   # check different hyperparameters for linear regression\n",
    "# define search\n",
    "search = GridSearchCV(model, grid, scoring='neg_mean_absolute_error', cv=cv, n_jobs=-1)\n",
    "# perform the search\n",
    "results = search.fit(X_train, y_train)\n",
    "# summarize\n",
    "print('MAE: %.3f' % results.best_score_)\n",
    "print('Config: %s' % results.best_params_)"
   ]
  },
  {
   "cell_type": "code",
   "execution_count": 28,
   "metadata": {},
   "outputs": [
    {
     "name": "stdout",
     "output_type": "stream",
     "text": [
      "[[1.65e+13 7.62e+00]\n",
      " [1.65e+13 6.50e+00]\n",
      " [1.65e+13 8.12e+00]\n",
      " ...\n",
      " [1.65e+13 8.15e+00]\n",
      " [1.65e+13 1.47e+01]\n",
      " [1.65e+13 8.58e+00]]\n"
     ]
    }
   ],
   "source": [
    "# make a prediction\n",
    "y_pred = results.predict(X_test)\n",
    "# summarize prediction\n",
    "np.set_printoptions(precision=2)\n",
    "print(np.concatenate((y_pred.reshape(len(y_pred),1), y_test.values.reshape(len(y_test),1)),1))"
   ]
  },
  {
   "cell_type": "code",
   "execution_count": 29,
   "metadata": {},
   "outputs": [
    {
     "data": {
      "text/plain": [
       "-4.957155061305467e+22"
      ]
     },
     "execution_count": 29,
     "metadata": {},
     "output_type": "execute_result"
    }
   ],
   "source": [
    "from sklearn.metrics import r2_score\n",
    "r2_score(y_test, y_pred)"
   ]
  },
  {
   "cell_type": "code",
   "execution_count": 30,
   "metadata": {},
   "outputs": [
    {
     "data": {
      "text/plain": [
       "Text(0, 0.5, 'y_pred')"
      ]
     },
     "execution_count": 30,
     "metadata": {},
     "output_type": "execute_result"
    },
    {
     "data": {
      "image/png": "[encoded data removed]",
      "text/plain": [
       "<Figure size 1000x500 with 1 Axes>"
      ]
     },
     "metadata": {},
     "output_type": "display_data"
    }
   ],
   "source": [
    "plt.figure(figsize=(10,5))\n",
    "FS = 18\n",
    "ax = sns.scatterplot(x=y_test, y=y_pred, color='DarkBlue')\n",
    "# set title\n",
    "plt.title('Scatterplot (y_test vs y_pred) ', fontsize = FS)\n",
    "# set x-axis label\n",
    "plt.xlabel('y_test', fontsize = FS)\n",
    "# set y-axis label\n",
    "plt.ylabel('y_pred', fontsize = FS)"
   ]
  },
  {
   "cell_type": "code",
   "execution_count": null,
   "metadata": {},
   "outputs": [],
   "source": []
  }
 ],
 "metadata": {
  "kernelspec": {
   "display_name": "Python 3.10.6 ('ANLY501')",
   "language": "python",
   "name": "python3"
  },
  "language_info": {
   "codemirror_mode": {
    "name": "ipython",
    "version": 3
   },
   "file_extension": ".py",
   "mimetype": "text/x-python",
   "name": "python",
   "nbconvert_exporter": "python",
   "pygments_lexer": "ipython3",
   "version": "3.10.6"
  },
  "orig_nbformat": 4,
  "vscode": {
   "interpreter": {
    "hash": "2621c812702a1a5818995998fdf4f25dba2cf3e0644fa54c342005118c922ece"
   }
  }
 },
 "nbformat": 4,
 "nbformat_minor": 2
}
