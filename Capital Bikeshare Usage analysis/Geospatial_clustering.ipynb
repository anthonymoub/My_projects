{
 "cells": [
  {
   "cell_type": "code",
   "execution_count": 83,
   "metadata": {},
   "outputs": [],
   "source": [
    "import pandas as pd             #pandas for using dataframe and reading csv file(s)\n",
    "import numpy as np              #numpy for vector operations and basic maths\n",
    "import matplotlib.pyplot as plt #for plotting\n",
    "%matplotlib inline              \n",
    "import seaborn as sns           #for making plots\n",
    "from haversine import haversine #for working with latitudinal and longitudinal data points\n",
    "import math                     #for basic math operations\n",
    "import warnings\n",
    "from pandas.plotting import parallel_coordinates #for multivariate plots\n",
    "warnings.filterwarnings('ignore') #ignore deprecation warnings\n",
    "import folium\n",
    "from folium.plugins import HeatMap"
   ]
  },
  {
   "cell_type": "code",
   "execution_count": 84,
   "metadata": {},
   "outputs": [],
   "source": [
    "#importing data\n",
    "combined_data = pd.read_csv('/Users/anthonymoubarak/Desktop/511 Project/Combined_df_teg.csv')"
   ]
  },
  {
   "cell_type": "code",
   "execution_count": 108,
   "metadata": {},
   "outputs": [],
   "source": [
    "# Cluster data \n",
    "\n",
    "combined_data = pd.read_csv('/Users/anthonymoubarak/Desktop/511 Project/Combined_df_teg.csv')\n",
    "clustered_data = combined_data.drop(['Unnamed: 0', 'Unnamed: 1'], axis=1)\n",
    "combined_data['Member.type'] = combined_data['Member.type'].str.lower()"
   ]
  },
  {
   "cell_type": "code",
   "execution_count": 109,
   "metadata": {},
   "outputs": [],
   "source": [
    "from statistics import mode\n",
    "from sklearn.cluster import KMeans\n",
    "from scipy.spatial.distance import cdist\n",
    "from sklearn.metrics import accuracy_score\n",
    "from math import radians\n",
    "\n",
    "data_model = combined_data #.sample(frac=0.1).reset_index(drop=True)\n",
    "\n",
    "data_model['start_lat'] = data_model['start_lat'].apply(radians)\n",
    "data_model['start_lng'] = data_model['start_lng'].apply(radians)\n",
    "data_model['end_lat'] = data_model['end_lat'].apply(radians)\n",
    "data_model['end_lng'] = data_model['end_lng'].apply(radians)\n",
    "\n",
    "X = data_model[['start_lat', 'start_lng', 'end_lat', 'end_lng']].values\n",
    "y = data_model['Duration'].values\n",
    "\n",
    "bestK = KMeans(n_clusters=3, init='k-means++', random_state=42)\n",
    "labels4 = bestK.fit_predict(X)\n",
    "data_model['kmeans_labels'] = labels4"
   ]
  },
  {
   "cell_type": "code",
   "execution_count": 110,
   "metadata": {},
   "outputs": [],
   "source": [
    "# Convert back to degrees\n",
    "\n",
    "\n",
    "data_model['start_lat'] = (data_model['start_lat']*180)/math.pi\n",
    "data_model['start_lng'] = (data_model['start_lng']*180)/math.pi\n",
    "data_model['end_lat'] = (data_model['end_lat']*180)/math.pi\n",
    "data_model['end_lng'] = (data_model['end_lng']*180)/math.pi"
   ]
  },
  {
   "cell_type": "code",
   "execution_count": 116,
   "metadata": {},
   "outputs": [],
   "source": [
    "def show_fmaps2(data, path=1):\n",
    "    \"\"\"function to generate map and add the pick up and drop coordinates\n",
    "    1. Path = 1 : Join pickup (blue) and drop(red) using a straight line\n",
    "    \"\"\"\n",
    "    map_1 = folium.Map(location=[39.13,-77.4], zoom_start=9) # manually added centre\n",
    "    data_reduced = data.sample(frac=0.001).reset_index(drop=True)\n",
    "    \n",
    "    for i in range(data_reduced.shape[0]):\n",
    "        try:\n",
    "            pick_long = data_reduced.loc[data_reduced.index ==i]['start_lng'].values[0]\n",
    "            pick_lat = data_reduced.loc[data_reduced.index ==i]['start_lat'].values[0]\n",
    "            dest_long = data_reduced.loc[data_reduced.index ==i]['end_lng'].values[0]\n",
    "            dest_lat = data_reduced.loc[data_reduced.index ==i]['end_lat'].values[0]\n",
    "        \n",
    "            \n",
    "            if data_reduced['kmeans_labels'][i] == 0:\n",
    "                folium.Marker([pick_lat, pick_long], icon=folium.Icon(color='red')).add_to(map_1)\n",
    "\n",
    "            elif data_reduced['kmeans_labels'][i] == 1:\n",
    "                folium.Marker([pick_lat, pick_long], icon=folium.Icon(color='blue')).add_to(map_1)\n",
    "            elif data_reduced['kmeans_labels'][i] == 2: \n",
    "                folium.Marker([pick_lat, pick_long], icon=folium.Icon(color='blue')).add_to(map_1)\n",
    "\n",
    "        except:\n",
    "            continue\n",
    "\n",
    "    folium.TileLayer('Stamen Terrain').add_to(map_1)\n",
    "    folium.TileLayer('Stamen Toner').add_to(map_1)\n",
    "    folium.TileLayer('Stamen Water Color').add_to(map_1)\n",
    "    folium.TileLayer('cartodbpositron').add_to(map_1)\n",
    "    folium.TileLayer('cartodbdark_matter').add_to(map_1)\n",
    "    folium.LayerControl().add_to(map_1)\n",
    "       \n",
    "    return map_1"
   ]
  },
  {
   "cell_type": "code",
   "execution_count": 117,
   "metadata": {},
   "outputs": [],
   "source": [
    "x = show_fmaps2(data_model)\n",
    "x.save('test.html')"
   ]
  }
 ],
 "metadata": {
  "kernelspec": {
   "display_name": "Python 3.9.6 64-bit",
   "language": "python",
   "name": "python3"
  },
  "language_info": {
   "codemirror_mode": {
    "name": "ipython",
    "version": 3
   },
   "file_extension": ".py",
   "mimetype": "text/x-python",
   "name": "python",
   "nbconvert_exporter": "python",
   "pygments_lexer": "ipython3",
   "version": "3.9.6"
  },
  "orig_nbformat": 4,
  "vscode": {
   "interpreter": {
    "hash": "31f2aee4e71d21fbe5cf8b01ff0e069b9275f58929596ceb00d14d90e3e16cd6"
   }
  }
 },
 "nbformat": 4,
 "nbformat_minor": 2
}
